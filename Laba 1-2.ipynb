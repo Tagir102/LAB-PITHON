{
 "cells": [
  {
   "cell_type": "markdown",
   "metadata": {},
   "source": [
    "# Лабораторная работа 1. Базовый синтаксис языка Python 3."
   ]
  },
  {
   "cell_type": "markdown",
   "metadata": {},
   "source": [
    "# Справочная информация:"
   ]
  },
  {
   "cell_type": "markdown",
   "metadata": {},
   "source": [
    "# 1. Типы данных"
   ]
  },
  {
   "cell_type": "markdown",
   "metadata": {},
   "source": [
    "Основными типами данных в любом языке программирования являются:\n",
    "\n",
    "целые числа, вещественные числа, строки (символы), логические переменные (True (истина) или False (ложь)).\n",
    "\n",
    "Они могут быть записаны следующим образом"
   ]
  },
  {
   "cell_type": "code",
   "execution_count": 2,
   "metadata": {},
   "outputs": [
    {
     "data": {
      "text/plain": [
       "(1, 1.0, '1', True)"
      ]
     },
     "execution_count": 2,
     "metadata": {},
     "output_type": "execute_result"
    }
   ],
   "source": [
    "1, 1.0, '1', 1<2"
   ]
  },
  {
   "cell_type": "markdown",
   "metadata": {},
   "source": [
    "Функцией type возвращает тип аргумента: "
   ]
  },
  {
   "cell_type": "code",
   "execution_count": 3,
   "metadata": {},
   "outputs": [
    {
     "data": {
      "text/plain": [
       "(int, float, str, bool)"
      ]
     },
     "execution_count": 3,
     "metadata": {},
     "output_type": "execute_result"
    }
   ],
   "source": [
    "type(1), type(1.0), type('1'), type(1<2)"
   ]
  },
  {
   "cell_type": "markdown",
   "metadata": {},
   "source": [
    "# 1.2 Операции с числами: $A+B$, $A-B$, $A*B$, $A/B$, $A^B$"
   ]
  },
  {
   "cell_type": "code",
   "execution_count": 3,
   "metadata": {},
   "outputs": [
    {
     "name": "stdout",
     "output_type": "stream",
     "text": [
      " A + B =  3\n",
      " A - B =  -1\n",
      " A * B =  2\n",
      " A / B =  0.5\n",
      " A ^ B =  1\n"
     ]
    }
   ],
   "source": [
    "# комментарий: с целыми числами\n",
    "A=1 \n",
    "B=2\n",
    "print (' A + B = ',A+B) # сумма\n",
    "print (' A - B = ',A-B) # разность;\n",
    "print (' A * B = ',A*B) # произведение;\n",
    "print (' A / B = ',A/B) # частное;\n",
    "print (' A ^ B = ',A**B) # возведение в степень."
   ]
  },
  {
   "cell_type": "code",
   "execution_count": 4,
   "metadata": {},
   "outputs": [
    {
     "name": "stdout",
     "output_type": "stream",
     "text": [
      " A + B  =  3.0\n",
      " A - B  =  -1.0\n",
      " A * B  =  2.0\n",
      " A / B  =  0.5\n",
      " A % B  =  1.0\n",
      " A // B =  0.0\n",
      " A ^ B  =  1.0\n"
     ]
    }
   ],
   "source": [
    "# комментарий: с вещественными числами\n",
    "A=1.0 \n",
    "B=2.0\n",
    "print (' A + B  = ',A+B)  # сумма\n",
    "print (' A - B  = ',A-B)  # разность;\n",
    "print (' A * B  = ',A*B)  # произведение;\n",
    "print (' A / B  = ',A/B)  # частное;\n",
    "print (' A % B  = ',A%B)  #  остаток от деления;\n",
    "print (' A // B = ',A//B) # деление без остатка;\n",
    "print (' A ^ B  = ',A**B) # возведение в степень."
   ]
  },
  {
   "cell_type": "code",
   "execution_count": 4,
   "metadata": {},
   "outputs": [
    {
     "name": "stdout",
     "output_type": "stream",
     "text": [
      " A / B =  0.5 возвращаемый тип -  <class 'float'>\n",
      " A / B =  0 возвращаемый тип -  <class 'int'>\n"
     ]
    }
   ],
   "source": [
    "# комментарий: ещё о целых числах, без автоматического переопределения типа было бы так\n",
    "A=1\n",
    "B=2\n",
    "print (' A / B = ',A/B, 'возвращаемый тип - ', type(A/B)) # автоматическое переопределение;\n",
    "print (' A / B = ',(int)(A/B), 'возвращаемый тип - ', type((int)(A/B))) # без автоматического переопределения;"
   ]
  },
  {
   "cell_type": "markdown",
   "metadata": {},
   "source": [
    "# 1.2 Операции над строками"
   ]
  },
  {
   "cell_type": "code",
   "execution_count": 5,
   "metadata": {},
   "outputs": [
    {
     "name": "stdout",
     "output_type": "stream",
     "text": [
      " Ast + Bst =   я люблю информатику \n",
      "(Ast + Bst) * n =   я люблю информатику  я люблю информатику  я люблю информатику \n"
     ]
    }
   ],
   "source": [
    "Ast=' я люблю ' \n",
    "Bst='информатику '\n",
    "n=3\n",
    "print (' Ast + Bst = ',Ast+Bst)  # конкатенация \n",
    "print ('(Ast + Bst) * n = ',(Ast+Bst)*n)  # повторение n раз"
   ]
  },
  {
   "cell_type": "markdown",
   "metadata": {},
   "source": [
    "# 1.3 Логические операции"
   ]
  },
  {
   "cell_type": "code",
   "execution_count": 2,
   "metadata": {},
   "outputs": [
    {
     "name": "stdout",
     "output_type": "stream",
     "text": [
      " A >  B  ?  False\n",
      " A <  B  ?  True\n",
      " A >= B  ?  False\n",
      " A <= B  ?  True\n",
      " A == B  ?  False\n",
      " A != B ?  True\n",
      " A < B < A+B ?  True\n",
      " A < B и B < A+B  ?  True\n",
      " A < B или A > B  ?  True\n",
      "\n",
      " True False False True\n",
      "\n",
      " True \t False\n"
     ]
    }
   ],
   "source": [
    "A=1.0 \n",
    "B=2.0\n",
    "print (' A >  B  ? ',A>B)   # больше\n",
    "print (' A <  B  ? ',A<B)   # меньша\n",
    "print (' A >= B  ? ',A>=B)  # больше или равно\n",
    "print (' A <= B  ? ',A<=B)  # меньше или равно\n",
    "print (' A == B  ? ',A==B)  # равно\n",
    "print (' A != B ? ',A!=B)   # не равно\n",
    "print (' A < B < A+B ? ',A<B<A+B) # из интервала\n",
    "print (' A < B и B < A+B  ? ',A<B and B<A+B) # и (*)\n",
    "print (' A < B или A > B  ? ',A<B or A>B) # или (+)\n",
    "\n",
    "print ('\\n',A<B , A>B, A<B * A>B, A<B + A>B)  # \\n - знак перехода на строку\n",
    "\n",
    "print ('\\n',bool(1), '\\t', bool(0))  # \\t - знак табуляции"
   ]
  },
  {
   "cell_type": "markdown",
   "metadata": {},
   "source": [
    "# 2 Основные инструкции"
   ]
  },
  {
   "cell_type": "markdown",
   "metadata": {},
   "source": [
    "# 2.1 Операции ввода/вывода"
   ]
  },
  {
   "cell_type": "markdown",
   "metadata": {
    "collapsed": true
   },
   "source": [
    "Форматный вывод (это красиво): %ШиринаПоля.ТочностьТип\n",
    "\n",
    "% - указатель на вставку, тип: i - int, f - float, s - str, e - \"научное\" представление, g - \"компактное\" представление десятичного числа\n",
    "\n",
    "По умолчанию производится выравнивание по правому краю, для выравневания по левому нужно писать %- вместо %.\n",
    "\n",
    "(Кроме того, существует метод str.format() для форматного вывода строк.)"
   ]
  },
  {
   "cell_type": "code",
   "execution_count": 21,
   "metadata": {},
   "outputs": [
    {
     "name": "stdout",
     "output_type": "stream",
     "text": [
      " A / B = 0.5000, возвращаемый тип - <class 'float'> \n",
      " A / B = 0     , возвращаемый тип - <class 'int'> \n"
     ]
    }
   ],
   "source": [
    "A=1 \n",
    "B=2\n",
    "print(\" A / B = %6.4f, возвращаемый тип - %s \" % (A/B, type(A/B)))\n",
    "print(\" A / B = %-6i, возвращаемый тип - %s \" % ((int)(A/B), type((int)(A/B))))"
   ]
  },
  {
   "cell_type": "markdown",
   "metadata": {},
   "source": [
    "В интерактивной сессии (или в программе, запущенной с командной строки) можно попросить пользователя что-нибудь ввести. Аргумент функции input - это приглашение для ввода (prompt). Можно использовать просто input(), тогда приглашения не будет. Но это неудобно, т.к. в этом случае трудно заметить, что программа чего-то ждёт."
   ]
  },
  {
   "cell_type": "code",
   "execution_count": 22,
   "metadata": {},
   "outputs": [
    {
     "name": "stdout",
     "output_type": "stream",
     "text": [
      "Введите число 4\n",
      "s =  4 <class 'str'>\n",
      "sf =  4.0 <class 'float'>\n"
     ]
    }
   ],
   "source": [
    "s=input('Введите число ')\n",
    "print('s = ', s, type(s))\n",
    "sf=float(s)\n",
    "print('sf = ', sf, type(sf))"
   ]
  },
  {
   "cell_type": "markdown",
   "metadata": {},
   "source": [
    "Питон - интерпретатор, поэтому он может во время выполнения программы интерпретировать строки как куски исходного текста на языке питон. Так, функция eval интерпретирует строку как выражение и вычисляет его (в текущем контексте - подставляя текущие значения переменных)."
   ]
  },
  {
   "cell_type": "code",
   "execution_count": 20,
   "metadata": {},
   "outputs": [
    {
     "name": "stdout",
     "output_type": "stream",
     "text": [
      "Введите операцию с переменной sfsf*2+1\n",
      "s =  sf*2+1 <class 'str'>\n",
      "sf*2+1 =  11.0\n"
     ]
    }
   ],
   "source": [
    "s=input('Введите операцию с переменной sf')\n",
    "print('s = ', s, type(s))\n",
    "print(s + ' = ', eval(s))"
   ]
  },
  {
   "cell_type": "markdown",
   "metadata": {},
   "source": [
    "А функция exec интерпретирует строку как оператор и выполняет его. Оператор может менять значения переменных в текущем пространстве имён."
   ]
  },
  {
   "cell_type": "code",
   "execution_count": 25,
   "metadata": {},
   "outputs": [
    {
     "name": "stdout",
     "output_type": "stream",
     "text": [
      "Введите выражение с переменной sf x = sf - 1\n"
     ]
    }
   ],
   "source": [
    "s=input('Введите выражение с переменной sf ')"
   ]
  },
  {
   "cell_type": "code",
   "execution_count": 27,
   "metadata": {},
   "outputs": [
    {
     "data": {
      "text/plain": [
       "'x = sf - 1'"
      ]
     },
     "execution_count": 27,
     "metadata": {},
     "output_type": "execute_result"
    }
   ],
   "source": [
    "s"
   ]
  },
  {
   "cell_type": "code",
   "execution_count": 28,
   "metadata": {},
   "outputs": [
    {
     "name": "stdout",
     "output_type": "stream",
     "text": [
      "4.0\n"
     ]
    }
   ],
   "source": [
    "exec(s)\n",
    "print(x)"
   ]
  },
  {
   "cell_type": "markdown",
   "metadata": {},
   "source": [
    "# 2.2 Ветвление (или условная инструкция)"
   ]
  },
  {
   "cell_type": "raw",
   "metadata": {},
   "source": [
    "Синтаксис:\n",
    "\n",
    "if Условие1:\n",
    "    Блок_инструкций_1 (выполняется если условие1 выполнено)\n",
    "elif Условие2:\n",
    "    Блок_инструкций_2 (выполняется если условие2 выполнено)    \n",
    "else:\n",
    "    Блок_инструкций_3 (выполняется если условия не выполнены)\n",
    "   \n",
    "или болеее компатно:   \n",
    "   \n",
    "A = инструкция1(выполняется когда верно условие) if условие else инструкция2"
   ]
  },
  {
   "cell_type": "code",
   "execution_count": null,
   "metadata": {},
   "outputs": [],
   "source": [
    "# Пример\n",
    "\n",
    "a = input('Введите целое число a: ') \n",
    "b = input('Введите целое число b: ') \n",
    "\n",
    "if a < b: \n",
    "    print ('a - наименьшее из двух чисел') \n",
    "elif a == b: \n",
    "    print ('a и b равны')\n",
    "else: \n",
    "    print ('b - наименьшее из двух чисел') "
   ]
  },
  {
   "cell_type": "code",
   "execution_count": null,
   "metadata": {},
   "outputs": [],
   "source": [
    "a = input('Введите целое число a: ') \n",
    "b = input('Введите целое число b: ') \n",
    "\n",
    "print ('a - наименьшее из двух чисел') if a<b else (print ('b - наименьшее из двух чисел') if a>b else print ('a и b равны'))"
   ]
  },
  {
   "cell_type": "markdown",
   "metadata": {},
   "source": [
    "# 2.3 Цикл"
   ]
  },
  {
   "cell_type": "raw",
   "metadata": {
    "collapsed": true
   },
   "source": [
    "Цикл while («пока») позволяет выполнить одну и ту же последовательность действий, пока проверяемое условие истинно. Условие записывается до тела цикла и проверяется до выполнения тела цикла. Как правило, цикл while используется, когда невозможно определить точное значение количества проходов исполнения цикла.\n",
    "\n",
    "Синтаксис цикла while:\n",
    "\n",
    "while Условие:\n",
    "    Блок_инструкций"
   ]
  },
  {
   "cell_type": "raw",
   "metadata": {},
   "source": [
    "Цикл for\n",
    "\n",
    "Синтаксис:\n",
    "\n",
    "for i in range(10):      #   for i in range(от, до, шаг):        \n",
    "    Блок_инструкций\n",
    "    \n",
    "эквивалентно:\n",
    "\n",
    "i = 0\n",
    "while i < 10:\n",
    "    Блок_инструкций\n",
    "    i += 1"
   ]
  },
  {
   "cell_type": "markdown",
   "metadata": {},
   "source": [
    "# 2.4 Обработка ошибок"
   ]
  },
  {
   "cell_type": "raw",
   "metadata": {},
   "source": [
    "try:\n",
    "    Блок_инструкций_1\n",
    "except:\n",
    "    Блок_инструкций_2 (выполняется в случае ошибки в Блок_инструкций_1)"
   ]
  },
  {
   "cell_type": "markdown",
   "metadata": {},
   "source": [
    "# 3 Функции"
   ]
  },
  {
   "cell_type": "markdown",
   "metadata": {
    "collapsed": true
   },
   "source": [
    "Простейшая в мире функция: не имеет параметров, ничего не делает и ничего не возвращает. Оператор pass означает \"ничего не делай\"; он используется там, где синтаксически необходим оператор, а делать ничено не нужно (после if или elif, после def и т.д.)."
   ]
  },
  {
   "cell_type": "code",
   "execution_count": 1,
   "metadata": {},
   "outputs": [],
   "source": [
    "def fun0():\n",
    "    pass"
   ]
  },
  {
   "cell_type": "code",
   "execution_count": 2,
   "metadata": {},
   "outputs": [],
   "source": [
    "fun0()"
   ]
  },
  {
   "cell_type": "markdown",
   "metadata": {},
   "source": [
    "# Ваша первая программа на Python"
   ]
  },
  {
   "cell_type": "markdown",
   "metadata": {},
   "source": [
    "Традиционно первой программой при начале изучения того или иного языка программирования является программа, результатом работы которой является вывод на экран или иное устройство фразы «Hello, world!»\n",
    "\n",
    "Её можно считать тестом для демонстрации работы системы перед переходом к более сложным вещам и объявлением сообществу (миру) о вашем появлении.\n",
    "\n",
    "На разных языках программирования такая программа будет занимать разное колличество строк. В нашем случае достаточно написать:\n",
    "\n",
    "print(\"Hello, world!\")\n",
    "\n",
    "Напишите здесь вашу первую программу на Python:"
   ]
  },
  {
   "cell_type": "code",
   "execution_count": 1,
   "metadata": {},
   "outputs": [
    {
     "name": "stdout",
     "output_type": "stream",
     "text": [
      "Hello, world!\n"
     ]
    }
   ],
   "source": [
    "print(\"Hello, world!\")"
   ]
  },
  {
   "cell_type": "markdown",
   "metadata": {},
   "source": [
    "# Пример 1. \"Метание мяча\""
   ]
  },
  {
   "cell_type": "markdown",
   "metadata": {},
   "source": [
    "Рассмотрим пример иллюстрирующий математическую модель описывающий траекторию полета мяча в воздухе. Из второго закона Ньютона, предполагая отсутствие сопротивления воздуха, мы можем вывести зависимость вертикального положения мяча от времени $t$:\n",
    "\n",
    "\n",
    "$$y(t)=v_0t−\\frac{1}{2}gt^2$$\n",
    "\n",
    "\n",
    "где $v_0$ — начальная скорость, $g$ — ускорение свободного падения, значение которого положим равным 9.80665 $м/c^2$.\n",
    "\n",
    "(Обратите внимание какие красивые формулы! Текстовые ячейки Jupiter поддерживают набор формул в синтаксесе вёрстки LaTeX, наиболее популярный набор макрорасширений (или макропакет) системы компьютерной вёрстки TeX.)"
   ]
  },
  {
   "cell_type": "markdown",
   "metadata": {},
   "source": [
    "# Сценарий"
   ]
  },
  {
   "cell_type": "markdown",
   "metadata": {},
   "source": [
    "Рассмотрим сценарий на Python для вычисления по этой простой формуле"
   ]
  },
  {
   "cell_type": "code",
   "execution_count": 14,
   "metadata": {},
   "outputs": [
    {
     "name": "stdout",
     "output_type": "stream",
     "text": [
      "1.234803\n"
     ]
    }
   ],
   "source": [
    "# Программа для вычисления положения мяча при вертикальном движении\n",
    "\n",
    "v0 = 5       # Начальная скорость\n",
    "g = 9.80665  # Ускорение свободного падения\n",
    "t = 0.6      # Время\n",
    "\n",
    "y = v0*t - 1/2*g*t**2\n",
    "\n",
    "print (y)\n",
    "\n",
    "del v0, g, t, y"
   ]
  },
  {
   "cell_type": "markdown",
   "metadata": {},
   "source": [
    "# Разбор сценария или \"как он это сделал?\""
   ]
  },
  {
   "cell_type": "markdown",
   "metadata": {},
   "source": [
    "Сценарий на языке Python — это текст (или текстовый файл, в нашем случае эта программа написана и в файле ball.py, который можно запустить в редакторе Spyder), содержащий некоторые инструкции. Мы можем читать сценарий и понимать, что программа способна делать, но сам сценарий не выполняет никаких действий на компьютере, пока интерпретатор Python не прочитает текст сценария и не преобразует его в некоторые действия.\n",
    "\n",
    "Когда сценарий запущен в интерпретаторе Python, он разбирается и выполняется построчно. То где вы это читаете не является \n",
    "\n",
    "Первая строчка:"
   ]
  },
  {
   "cell_type": "code",
   "execution_count": 91,
   "metadata": {},
   "outputs": [],
   "source": [
    "# Программа для вычисления положения мяча при вертикальном движении"
   ]
  },
  {
   "cell_type": "markdown",
   "metadata": {},
   "source": [
    "является комментарием, т.е. как только встречается символ #, интерпретатор Python воспринимает оставшуюся часть строки как комментарий, пропускает ее и переходит к следующей строке."
   ]
  },
  {
   "cell_type": "markdown",
   "metadata": {},
   "source": [
    "Следующая строка, интерпретируемая Pyhton:"
   ]
  },
  {
   "cell_type": "code",
   "execution_count": 92,
   "metadata": {},
   "outputs": [],
   "source": [
    "v0 = 5       # Начальная скорость"
   ]
  },
  {
   "cell_type": "markdown",
   "metadata": {},
   "source": [
    "В Python выражения вида v0 = 5 известны как оператции присваивания (с оператором \"=\"). Значение правой части, в нашем случае целое число 5, становится объектом, а имя переменной слева — именованной ссылкой на этот объект. Всякий раз, когда мы запишем v0, Python заменит ее целым значением 5. Выражение v1 = v0 создает новое имя для того же целого объекта со значением 5, а не копирует объект. \n",
    "\n",
    "Следующие две строки"
   ]
  },
  {
   "cell_type": "code",
   "execution_count": 98,
   "metadata": {},
   "outputs": [],
   "source": [
    "g = 9.80665  # Ускорение свободного падения\n",
    "t = 0.6      # Время"
   ]
  },
  {
   "cell_type": "markdown",
   "metadata": {},
   "source": [
    "имеют тот же смысл, что и предыдушая. Таким образом, прочитав эти строки интерпретатор Python знает три переменных v0, g, t и их значения. Эти переменные используются интерпретатором в следующей строке, реализующей некоторую формулу"
   ]
  },
  {
   "cell_type": "code",
   "execution_count": 99,
   "metadata": {},
   "outputs": [],
   "source": [
    "y = v0*t - 1/2*g*t**2"
   ]
  },
  {
   "cell_type": "markdown",
   "metadata": {},
   "source": [
    "В этой строке Python интерпретирует * как оператор умножения, - — вычитания, ** — возведения в степень (как и ^). Естественно, + и \\ интерпретируются как операторы сложения и деления соответственно. В результате вычисляется значение по формуле в правой части выражения, которое присваивается переменной с именем y. \n",
    "\n",
    "Последняя строка сценария"
   ]
  },
  {
   "cell_type": "code",
   "execution_count": 100,
   "metadata": {},
   "outputs": [
    {
     "name": "stdout",
     "output_type": "stream",
     "text": [
      "1.234803\n"
     ]
    }
   ],
   "source": [
    "print (y)"
   ]
  },
  {
   "cell_type": "markdown",
   "metadata": {},
   "source": [
    "выводит на печать значение переменной y. Таким образом при запуске сценария будет выведено число 1.234803. В тексте сценария имеются также и пустые строки, которые пропускаются интерпретатором Python. Они добавлены для лучшей читабельности кода."
   ]
  },
  {
   "cell_type": "markdown",
   "metadata": {},
   "source": [
    "# Упражнение 1. Сообщения об ошибках"
   ]
  },
  {
   "cell_type": "markdown",
   "metadata": {},
   "source": [
    "Давайте сломаем работающую программу!!!\n",
    "\n",
    "\n",
    "Предлагается ввести ошибки в сценарий. Для каждой введенной ошибки запустите сценарий. Напишите комментарий в тексте программы о том, как Python реагировал на соответствующую ошибку. После каждой ошибки поправьте сценарий так, чтобы он работал и переходите к следующей."
   ]
  },
  {
   "cell_type": "markdown",
   "metadata": {},
   "source": [
    "1. Вставьте слово Привет в пустой строке перед определением переменной v0.\n",
    "\n",
    "2. Удалите знак # перед комментарием Начальная скорость\n",
    "\n",
    "3. Удалите знак = в задании переменной v0\n",
    "\n",
    "4. Замените слово print на pint\n",
    "\n",
    "5. Замените строку print y на print x\n",
    "\n",
    "6. Замените выражение g = 9.80665 и t = 0.1 на g: int = 9.80665 и t: int = 0.1, а потом на g = int(9.80665) и t = int(0.1)\n"
   ]
  },
  {
   "cell_type": "markdown",
   "metadata": {},
   "source": [
    "Проверьте Python на прочность:"
   ]
  },
  {
   "cell_type": "code",
   "execution_count": 15,
   "metadata": {},
   "outputs": [
    {
     "name": "stdout",
     "output_type": "stream",
     "text": [
      "1.234803\n"
     ]
    }
   ],
   "source": [
    "# Программа для вычисления положения мяча при вертикальном движении\n",
    "\n",
    "v0 = 5       # Начальная скорость (м/с)\n",
    "g = 9.80665  # Ускорение свободного падения (м/с^2)\n",
    "t = 0.6      # Время (с)\n",
    "\n",
    "y = v0*t - 1/2*g*t**2 # (м)\n",
    "\n",
    "print (y)\n",
    "\n",
    "del v0, g, t, y"
   ]
  },
  {
   "cell_type": "code",
   "execution_count": 16,
   "metadata": {},
   "outputs": [
    {
     "data": {
      "text/plain": [
       "9.80665"
      ]
     },
     "execution_count": 16,
     "metadata": {},
     "output_type": "execute_result"
    }
   ],
   "source": [
    "g = 9.80665 \n",
    "g"
   ]
  },
  {
   "cell_type": "code",
   "execution_count": 17,
   "metadata": {},
   "outputs": [
    {
     "data": {
      "text/plain": [
       "9.80665"
      ]
     },
     "execution_count": 17,
     "metadata": {},
     "output_type": "execute_result"
    }
   ],
   "source": [
    "g: int = 9.80665\n",
    "g"
   ]
  },
  {
   "cell_type": "code",
   "execution_count": 18,
   "metadata": {},
   "outputs": [
    {
     "data": {
      "text/plain": [
       "9"
      ]
     },
     "execution_count": 18,
     "metadata": {},
     "output_type": "execute_result"
    }
   ],
   "source": [
    "g = int(9.80665)\n",
    "g"
   ]
  },
  {
   "cell_type": "markdown",
   "metadata": {},
   "source": [
    "# Упражнение 2. Форматный вывод результата"
   ]
  },
  {
   "cell_type": "raw",
   "metadata": {},
   "source": [
    "Реализовать в программе форматный вывод в следующем виде (с учетом выравнивания столбцов):\n",
    "\n",
    "Исходный данные: \n",
    "Начальная скорость            (число с 5 значащами числами в научном формате) м/с\n",
    "Ускорение свободного падения  (число с 5 значащами числами в научном формате) м/с^2\n",
    "Время                         (число с 5 значащами числами в научном формате) c\n",
    "\n",
    "Выходные данные:             \n",
    "Текущая высота положения мяча (число с 5 значащами числами в научном формате) м"
   ]
  },
  {
   "cell_type": "code",
   "execution_count": null,
   "metadata": {},
   "outputs": [],
   "source": [
    "# Программа для вычисления положения мяча при вертикальном движении\n",
    "\n",
    "v0 = 5       # Начальная скорость\n",
    "g = 9.80665  # Ускорение свободного падения\n",
    "t = 0.6      # Время\n",
    "\n",
    "y = v0*t - 1/2*g*t**2\n",
    "\n",
    "print (y)\n",
    "\n",
    "del v0, g, t, y"
   ]
  },
  {
   "cell_type": "markdown",
   "metadata": {},
   "source": [
    "# Упражнение 3. Интерактивное общение с пользователем"
   ]
  },
  {
   "cell_type": "markdown",
   "metadata": {},
   "source": [
    "Реализовать в программе запрос исходных данных (хотя бы одной) с помощью интерактивной сессии функцией input()."
   ]
  },
  {
   "cell_type": "code",
   "execution_count": 5,
   "metadata": {},
   "outputs": [],
   "source": [
    "data = input()"
   ]
  },
  {
   "cell_type": "markdown",
   "metadata": {},
   "source": [
    "# Упражнение 4. Проверка корректности исходных данных"
   ]
  },
  {
   "cell_type": "markdown",
   "metadata": {},
   "source": [
    "Заметим, что в рассматриваемой задаче ось $y$ выбрана так, что мячик в начальный момент времени ($t = 0$) находится в точке с координатой $y = 0$. Чтобы посмотреть сколько времени займет у мячика вернуться в эту же координату ($y = 0$), надо рассмотреть следующее вырожение:\n",
    "\n",
    "$$v_0t−\\frac{1}{2}gt^2 = t \\left( v_0t−\\frac{1}{2}gt \\right) = 0$$\n",
    "\n",
    "Последнее возможно только если $$t = 0$$ или $$t = \\frac{2v_0}{g}.$$\n",
    "\n",
    "Таким образом возможное время полета мяча ограничено интервалом\n",
    "\n",
    "$$0 \\leqslant t \\leqslant \\frac{2v_0}{g}.$$"
   ]
  },
  {
   "cell_type": "markdown",
   "metadata": {},
   "source": [
    "Добавить в программу проверку корректности вводимых пользователем переменных, исходя из условий: начальная скорость и ускорение свободного падения не отрицальны, диапазон возможного времени определяется полученным выше условием."
   ]
  },
  {
   "cell_type": "code",
   "execution_count": null,
   "metadata": {},
   "outputs": [],
   "source": [
    "if v0>0 and g>0 and t>=0 and t<=(2*v0/g):\n",
    "    print(\"Данные корректны\")\n",
    "else:\n",
    "    print(\"ОШИБКА:Некорректные данные!\")"
   ]
  },
  {
   "cell_type": "markdown",
   "metadata": {},
   "source": [
    "# Домашнее задание (базовое):"
   ]
  },
  {
   "cell_type": "markdown",
   "metadata": {},
   "source": [
    "# Задание 1. Обновление переменных в программной оболочке Python"
   ]
  },
  {
   "cell_type": "markdown",
   "metadata": {},
   "source": [
    "Написать программу реализующую следующие действия:\n",
    "\n",
    "1. Инициализировать переменную x значением 2\n",
    "2. Прибавить 3 к x и присвоить это значение x\n",
    "3. Вычислить (x+1)/2 и присвоить это значение x\n",
    "4. Вычислить x+1/2 и присвоить это значение x \n",
    "5. Присвоить x значение значение выражения x<5 \n",
    "6. Изменить тип x в символьный и присвоить результат переменной x\n",
    "\n",
    "После каждой операции выводить значение переменной x и её тип."
   ]
  },
  {
   "cell_type": "code",
   "execution_count": 9,
   "metadata": {},
   "outputs": [
    {
     "name": "stdout",
     "output_type": "stream",
     "text": [
      "2 <class 'int'>\n",
      "5 <class 'int'>\n",
      "3.0 <class 'float'>\n",
      "3.5 <class 'float'>\n",
      "True <class 'bool'>\n",
      "True <class 'str'>\n"
     ]
    }
   ],
   "source": [
    "x = 2\n",
    "print(x,type(x))\n",
    "x+=3\n",
    "print(x,type(x))\n",
    "x = (x+1)/2\n",
    "print(x,type(x))\n",
    "x = x+1/2\n",
    "print(x,type(x))\n",
    "x = x<5\n",
    "print(x,type(x))\n",
    "x = str(x)\n",
    "print(x,type(x))"
   ]
  },
  {
   "cell_type": "markdown",
   "metadata": {},
   "source": [
    "# Задание 2. Среднее значение целых чисел"
   ]
  },
  {
   "cell_type": "markdown",
   "metadata": {},
   "source": [
    "Написать программу (сценарий), сохраняющую сумму 1+2+3+4+5 в одну переменную, затем создающую другую переменную, содержащую среднее значение этих пяти чисел. Вывести фразу \"Среднее значение этих 5 чисел равно\" и результат работы с точностью до 5 знака после точки (т.е. до 1/100000)."
   ]
  },
  {
   "cell_type": "code",
   "execution_count": 15,
   "metadata": {},
   "outputs": [
    {
     "name": "stdout",
     "output_type": "stream",
     "text": [
      "Среднее значение этих 5 чисел равно 3.0\n"
     ]
    }
   ],
   "source": [
    "n = 1+2+3+4+5\n",
    "a = n/5\n",
    "print(\"Среднее значение этих 5 чисел равно\",a)\n",
    "\n"
   ]
  },
  {
   "cell_type": "markdown",
   "metadata": {},
   "source": [
    "# Задание 3. Интерактивное вычисление среднего"
   ]
  },
  {
   "cell_type": "markdown",
   "metadata": {},
   "source": [
    "Добавьте в программу из предыдущего задания запрос на добавление ещё однонго числа к подсчёту среднего с помощью запуска интерактивной сессии функцией input(). После введения каждого нового числа пересчитывать и выводить резёльтата в формате: \"Среднее значение этих (число чисел) чисел равно\" и результат работы с точностью до 5 знака после точки (т.е. до 1/100000). Интерактивная сессия заканчивается после введения пользователем 0."
   ]
  },
  {
   "cell_type": "code",
   "execution_count": 17,
   "metadata": {},
   "outputs": [
    {
     "name": "stdout",
     "output_type": "stream",
     "text": [
      "Среднее значениие этих 6 чисел равно 2.6666666666666665\n"
     ]
    }
   ],
   "source": [
    "n = 1+2+3+4+5\n",
    "b = int(input())\n",
    "if b!=0:\n",
    "    n +=b\n",
    "    a = n/6\n",
    "    print(\"Среднее значениие этих 6 чисел равно\",a)\n",
    "\n"
   ]
  },
  {
   "cell_type": "markdown",
   "metadata": {},
   "source": [
    "# Домашнее задание (дополнительное):"
   ]
  },
  {
   "cell_type": "markdown",
   "metadata": {},
   "source": [
    "# Задание. \"О чём думает кот?\""
   ]
  },
  {
   "cell_type": "code",
   "execution_count": 20,
   "metadata": {},
   "outputs": [
    {
     "ename": "FileNotFoundError",
     "evalue": "No such file or directory: 'picture.png'",
     "output_type": "error",
     "traceback": [
      "\u001b[1;31m---------------------------------------------------------------------------\u001b[0m",
      "\u001b[1;31mTypeError\u001b[0m                                 Traceback (most recent call last)",
      "File \u001b[1;32m~\\AppData\\Roaming\\Python\\Python311\\site-packages\\IPython\\core\\display.py:1045\u001b[0m, in \u001b[0;36mImage._data_and_metadata\u001b[1;34m(self, always_both)\u001b[0m\n\u001b[0;32m   1044\u001b[0m \u001b[39mtry\u001b[39;00m:\n\u001b[1;32m-> 1045\u001b[0m     b64_data \u001b[39m=\u001b[39m b2a_base64(\u001b[39mself\u001b[39;49m\u001b[39m.\u001b[39;49mdata, newline\u001b[39m=\u001b[39;49m\u001b[39mFalse\u001b[39;49;00m)\u001b[39m.\u001b[39mdecode(\u001b[39m\"\u001b[39m\u001b[39mascii\u001b[39m\u001b[39m\"\u001b[39m)\n\u001b[0;32m   1046\u001b[0m \u001b[39mexcept\u001b[39;00m \u001b[39mTypeError\u001b[39;00m \u001b[39mas\u001b[39;00m e:\n",
      "\u001b[1;31mTypeError\u001b[0m: a bytes-like object is required, not 'str'",
      "\nThe above exception was the direct cause of the following exception:\n",
      "\u001b[1;31mFileNotFoundError\u001b[0m                         Traceback (most recent call last)",
      "File \u001b[1;32m~\\AppData\\Roaming\\Python\\Python311\\site-packages\\IPython\\core\\formatters.py:974\u001b[0m, in \u001b[0;36mMimeBundleFormatter.__call__\u001b[1;34m(self, obj, include, exclude)\u001b[0m\n\u001b[0;32m    971\u001b[0m     method \u001b[39m=\u001b[39m get_real_method(obj, \u001b[39mself\u001b[39m\u001b[39m.\u001b[39mprint_method)\n\u001b[0;32m    973\u001b[0m     \u001b[39mif\u001b[39;00m method \u001b[39mis\u001b[39;00m \u001b[39mnot\u001b[39;00m \u001b[39mNone\u001b[39;00m:\n\u001b[1;32m--> 974\u001b[0m         \u001b[39mreturn\u001b[39;00m method(include\u001b[39m=\u001b[39;49minclude, exclude\u001b[39m=\u001b[39;49mexclude)\n\u001b[0;32m    975\u001b[0m     \u001b[39mreturn\u001b[39;00m \u001b[39mNone\u001b[39;00m\n\u001b[0;32m    976\u001b[0m \u001b[39melse\u001b[39;00m:\n",
      "File \u001b[1;32m~\\AppData\\Roaming\\Python\\Python311\\site-packages\\IPython\\core\\display.py:1035\u001b[0m, in \u001b[0;36mImage._repr_mimebundle_\u001b[1;34m(self, include, exclude)\u001b[0m\n\u001b[0;32m   1033\u001b[0m \u001b[39mif\u001b[39;00m \u001b[39mself\u001b[39m\u001b[39m.\u001b[39membed:\n\u001b[0;32m   1034\u001b[0m     mimetype \u001b[39m=\u001b[39m \u001b[39mself\u001b[39m\u001b[39m.\u001b[39m_mimetype\n\u001b[1;32m-> 1035\u001b[0m     data, metadata \u001b[39m=\u001b[39m \u001b[39mself\u001b[39;49m\u001b[39m.\u001b[39;49m_data_and_metadata(always_both\u001b[39m=\u001b[39;49m\u001b[39mTrue\u001b[39;49;00m)\n\u001b[0;32m   1036\u001b[0m     \u001b[39mif\u001b[39;00m metadata:\n\u001b[0;32m   1037\u001b[0m         metadata \u001b[39m=\u001b[39m {mimetype: metadata}\n",
      "File \u001b[1;32m~\\AppData\\Roaming\\Python\\Python311\\site-packages\\IPython\\core\\display.py:1047\u001b[0m, in \u001b[0;36mImage._data_and_metadata\u001b[1;34m(self, always_both)\u001b[0m\n\u001b[0;32m   1045\u001b[0m     b64_data \u001b[39m=\u001b[39m b2a_base64(\u001b[39mself\u001b[39m\u001b[39m.\u001b[39mdata, newline\u001b[39m=\u001b[39m\u001b[39mFalse\u001b[39;00m)\u001b[39m.\u001b[39mdecode(\u001b[39m\"\u001b[39m\u001b[39mascii\u001b[39m\u001b[39m\"\u001b[39m)\n\u001b[0;32m   1046\u001b[0m \u001b[39mexcept\u001b[39;00m \u001b[39mTypeError\u001b[39;00m \u001b[39mas\u001b[39;00m e:\n\u001b[1;32m-> 1047\u001b[0m     \u001b[39mraise\u001b[39;00m \u001b[39mFileNotFoundError\u001b[39;00m(\n\u001b[0;32m   1048\u001b[0m         \u001b[39m\"\u001b[39m\u001b[39mNo such file or directory: \u001b[39m\u001b[39m'\u001b[39m\u001b[39m%s\u001b[39;00m\u001b[39m'\u001b[39m\u001b[39m\"\u001b[39m \u001b[39m%\u001b[39m (\u001b[39mself\u001b[39m\u001b[39m.\u001b[39mdata)) \u001b[39mfrom\u001b[39;00m \u001b[39me\u001b[39;00m\n\u001b[0;32m   1049\u001b[0m md \u001b[39m=\u001b[39m {}\n\u001b[0;32m   1050\u001b[0m \u001b[39mif\u001b[39;00m \u001b[39mself\u001b[39m\u001b[39m.\u001b[39mmetadata:\n",
      "\u001b[1;31mFileNotFoundError\u001b[0m: No such file or directory: 'picture.png'"
     ]
    },
    {
     "ename": "FileNotFoundError",
     "evalue": "No such file or directory: 'picture.png'",
     "output_type": "error",
     "traceback": [
      "\u001b[1;31m---------------------------------------------------------------------------\u001b[0m",
      "\u001b[1;31mTypeError\u001b[0m                                 Traceback (most recent call last)",
      "File \u001b[1;32m~\\AppData\\Roaming\\Python\\Python311\\site-packages\\IPython\\core\\display.py:1045\u001b[0m, in \u001b[0;36mImage._data_and_metadata\u001b[1;34m(self, always_both)\u001b[0m\n\u001b[0;32m   1044\u001b[0m \u001b[39mtry\u001b[39;00m:\n\u001b[1;32m-> 1045\u001b[0m     b64_data \u001b[39m=\u001b[39m b2a_base64(\u001b[39mself\u001b[39;49m\u001b[39m.\u001b[39;49mdata, newline\u001b[39m=\u001b[39;49m\u001b[39mFalse\u001b[39;49;00m)\u001b[39m.\u001b[39mdecode(\u001b[39m\"\u001b[39m\u001b[39mascii\u001b[39m\u001b[39m\"\u001b[39m)\n\u001b[0;32m   1046\u001b[0m \u001b[39mexcept\u001b[39;00m \u001b[39mTypeError\u001b[39;00m \u001b[39mas\u001b[39;00m e:\n",
      "\u001b[1;31mTypeError\u001b[0m: a bytes-like object is required, not 'str'",
      "\nThe above exception was the direct cause of the following exception:\n",
      "\u001b[1;31mFileNotFoundError\u001b[0m                         Traceback (most recent call last)",
      "File \u001b[1;32m~\\AppData\\Roaming\\Python\\Python311\\site-packages\\IPython\\core\\formatters.py:344\u001b[0m, in \u001b[0;36mBaseFormatter.__call__\u001b[1;34m(self, obj)\u001b[0m\n\u001b[0;32m    342\u001b[0m     method \u001b[39m=\u001b[39m get_real_method(obj, \u001b[39mself\u001b[39m\u001b[39m.\u001b[39mprint_method)\n\u001b[0;32m    343\u001b[0m     \u001b[39mif\u001b[39;00m method \u001b[39mis\u001b[39;00m \u001b[39mnot\u001b[39;00m \u001b[39mNone\u001b[39;00m:\n\u001b[1;32m--> 344\u001b[0m         \u001b[39mreturn\u001b[39;00m method()\n\u001b[0;32m    345\u001b[0m     \u001b[39mreturn\u001b[39;00m \u001b[39mNone\u001b[39;00m\n\u001b[0;32m    346\u001b[0m \u001b[39melse\u001b[39;00m:\n",
      "File \u001b[1;32m~\\AppData\\Roaming\\Python\\Python311\\site-packages\\IPython\\core\\display.py:1067\u001b[0m, in \u001b[0;36mImage._repr_png_\u001b[1;34m(self)\u001b[0m\n\u001b[0;32m   1065\u001b[0m \u001b[39mdef\u001b[39;00m \u001b[39m_repr_png_\u001b[39m(\u001b[39mself\u001b[39m):\n\u001b[0;32m   1066\u001b[0m     \u001b[39mif\u001b[39;00m \u001b[39mself\u001b[39m\u001b[39m.\u001b[39membed \u001b[39mand\u001b[39;00m \u001b[39mself\u001b[39m\u001b[39m.\u001b[39mformat \u001b[39m==\u001b[39m \u001b[39mself\u001b[39m\u001b[39m.\u001b[39m_FMT_PNG:\n\u001b[1;32m-> 1067\u001b[0m         \u001b[39mreturn\u001b[39;00m \u001b[39mself\u001b[39;49m\u001b[39m.\u001b[39;49m_data_and_metadata()\n",
      "File \u001b[1;32m~\\AppData\\Roaming\\Python\\Python311\\site-packages\\IPython\\core\\display.py:1047\u001b[0m, in \u001b[0;36mImage._data_and_metadata\u001b[1;34m(self, always_both)\u001b[0m\n\u001b[0;32m   1045\u001b[0m     b64_data \u001b[39m=\u001b[39m b2a_base64(\u001b[39mself\u001b[39m\u001b[39m.\u001b[39mdata, newline\u001b[39m=\u001b[39m\u001b[39mFalse\u001b[39;00m)\u001b[39m.\u001b[39mdecode(\u001b[39m\"\u001b[39m\u001b[39mascii\u001b[39m\u001b[39m\"\u001b[39m)\n\u001b[0;32m   1046\u001b[0m \u001b[39mexcept\u001b[39;00m \u001b[39mTypeError\u001b[39;00m \u001b[39mas\u001b[39;00m e:\n\u001b[1;32m-> 1047\u001b[0m     \u001b[39mraise\u001b[39;00m \u001b[39mFileNotFoundError\u001b[39;00m(\n\u001b[0;32m   1048\u001b[0m         \u001b[39m\"\u001b[39m\u001b[39mNo such file or directory: \u001b[39m\u001b[39m'\u001b[39m\u001b[39m%s\u001b[39;00m\u001b[39m'\u001b[39m\u001b[39m\"\u001b[39m \u001b[39m%\u001b[39m (\u001b[39mself\u001b[39m\u001b[39m.\u001b[39mdata)) \u001b[39mfrom\u001b[39;00m \u001b[39me\u001b[39;00m\n\u001b[0;32m   1049\u001b[0m md \u001b[39m=\u001b[39m {}\n\u001b[0;32m   1050\u001b[0m \u001b[39mif\u001b[39;00m \u001b[39mself\u001b[39m\u001b[39m.\u001b[39mmetadata:\n",
      "\u001b[1;31mFileNotFoundError\u001b[0m: No such file or directory: 'picture.png'"
     ]
    },
    {
     "data": {
      "text/plain": [
       "<IPython.core.display.Image object>"
      ]
     },
     "execution_count": 20,
     "metadata": {},
     "output_type": "execute_result"
    }
   ],
   "source": [
    "# Так можно добавлять картинки\n",
    "\n",
    "from IPython.display import Image # вызов из библиотеки определённой функции\n",
    "Image(\"picture.png\")              # вызов функции и передача ей в качестве аргумента пути к файлу \n",
    "\n",
    "# (в данном случае фаил находится в той же папке)"
   ]
  },
  {
   "cell_type": "markdown",
   "metadata": {},
   "source": [
    "Рассмотрим пример иллюстрирующий математическую модель описывающий траекторию кошачьего прыжка. Из второго закона Ньютона, предполагая отсутствие сопротивления воздуха, мы можем вывести зависимость вертикального (y) и горизонтального (x) положения котика от времени $t$:\n",
    "\n",
    "$$x(t)=v_0cos(\\alpha)t$$\n",
    "$$y(t)=v_0sin(\\alpha)t−\\frac{1}{2}gt^2$$\n",
    "\n",
    "где $v_0$ — начальная скорость, $g$ — ускорение свободного падения, значение которого положим равным 9.80665 $м/c^2$, $tg(\\alpha) = y/x$."
   ]
  },
  {
   "cell_type": "markdown",
   "metadata": {},
   "source": [
    "Напишите программу которая сможет помочь котику понять следующие вещи:\n",
    "\n",
    "\n",
    "1) как далеко и высоко он сможет прыгнуть при начальной скорости 5 м/с и направлении пражка $\\alpha = 40^{\\circ}$;\n",
    "\n",
    "2) каким должен быть начальный угол для максимальной дальности прыжка;\n",
    "\n",
    "3) каким должен быть начальный угол для максимальной высоты прыжка;\n",
    "\n",
    "4) какимо должны быть угол и скорость для попадания в точку с координатами (2,3) м через 1 с;\n",
    "\n",
    "5) нарисуйте траекторию прыжка с помощью библиотеки matplotlib.\n"
   ]
  },
  {
   "cell_type": "markdown",
   "metadata": {},
   "source": [
    "# Задание. \"Число и цифра\""
   ]
  },
  {
   "cell_type": "markdown",
   "metadata": {},
   "source": [
    "Запросите у пользователя целое число и сложите цифры этого числа. Повторяйте последнее действие столоко раз сколько сможете и выводите каждый раз полученную сумму."
   ]
  },
  {
   "cell_type": "code",
   "execution_count": 18,
   "metadata": {},
   "outputs": [
    {
     "name": "stdout",
     "output_type": "stream",
     "text": [
      "3\n",
      "5\n",
      "7\n",
      "10\n"
     ]
    },
    {
     "ename": "KeyboardInterrupt",
     "evalue": "Interrupted by user",
     "output_type": "error",
     "traceback": [
      "\u001b[1;31m---------------------------------------------------------------------------\u001b[0m",
      "\u001b[1;31mKeyboardInterrupt\u001b[0m                         Traceback (most recent call last)",
      "Cell \u001b[1;32mIn[18], line 2\u001b[0m\n\u001b[0;32m      1\u001b[0m \u001b[39mwhile\u001b[39;00m \u001b[39mTrue\u001b[39;00m:\n\u001b[1;32m----> 2\u001b[0m     n \u001b[39m=\u001b[39m \u001b[39mint\u001b[39m(\u001b[39minput\u001b[39;49m())\n\u001b[0;32m      3\u001b[0m     a \u001b[39m=\u001b[39m \u001b[39m0\u001b[39m\n\u001b[0;32m      4\u001b[0m     \u001b[39mwhile\u001b[39;00m n\u001b[39m>\u001b[39m\u001b[39m0\u001b[39m:\n",
      "File \u001b[1;32m~\\AppData\\Roaming\\Python\\Python311\\site-packages\\ipykernel\\kernelbase.py:1202\u001b[0m, in \u001b[0;36mKernel.raw_input\u001b[1;34m(self, prompt)\u001b[0m\n\u001b[0;32m   1200\u001b[0m     msg \u001b[39m=\u001b[39m \u001b[39m\"\u001b[39m\u001b[39mraw_input was called, but this frontend does not support input requests.\u001b[39m\u001b[39m\"\u001b[39m\n\u001b[0;32m   1201\u001b[0m     \u001b[39mraise\u001b[39;00m StdinNotImplementedError(msg)\n\u001b[1;32m-> 1202\u001b[0m \u001b[39mreturn\u001b[39;00m \u001b[39mself\u001b[39;49m\u001b[39m.\u001b[39;49m_input_request(\n\u001b[0;32m   1203\u001b[0m     \u001b[39mstr\u001b[39;49m(prompt),\n\u001b[0;32m   1204\u001b[0m     \u001b[39mself\u001b[39;49m\u001b[39m.\u001b[39;49m_parent_ident[\u001b[39m\"\u001b[39;49m\u001b[39mshell\u001b[39;49m\u001b[39m\"\u001b[39;49m],\n\u001b[0;32m   1205\u001b[0m     \u001b[39mself\u001b[39;49m\u001b[39m.\u001b[39;49mget_parent(\u001b[39m\"\u001b[39;49m\u001b[39mshell\u001b[39;49m\u001b[39m\"\u001b[39;49m),\n\u001b[0;32m   1206\u001b[0m     password\u001b[39m=\u001b[39;49m\u001b[39mFalse\u001b[39;49;00m,\n\u001b[0;32m   1207\u001b[0m )\n",
      "File \u001b[1;32m~\\AppData\\Roaming\\Python\\Python311\\site-packages\\ipykernel\\kernelbase.py:1245\u001b[0m, in \u001b[0;36mKernel._input_request\u001b[1;34m(self, prompt, ident, parent, password)\u001b[0m\n\u001b[0;32m   1242\u001b[0m \u001b[39mexcept\u001b[39;00m \u001b[39mKeyboardInterrupt\u001b[39;00m:\n\u001b[0;32m   1243\u001b[0m     \u001b[39m# re-raise KeyboardInterrupt, to truncate traceback\u001b[39;00m\n\u001b[0;32m   1244\u001b[0m     msg \u001b[39m=\u001b[39m \u001b[39m\"\u001b[39m\u001b[39mInterrupted by user\u001b[39m\u001b[39m\"\u001b[39m\n\u001b[1;32m-> 1245\u001b[0m     \u001b[39mraise\u001b[39;00m \u001b[39mKeyboardInterrupt\u001b[39;00m(msg) \u001b[39mfrom\u001b[39;00m \u001b[39mNone\u001b[39;00m\n\u001b[0;32m   1246\u001b[0m \u001b[39mexcept\u001b[39;00m \u001b[39mException\u001b[39;00m:\n\u001b[0;32m   1247\u001b[0m     \u001b[39mself\u001b[39m\u001b[39m.\u001b[39mlog\u001b[39m.\u001b[39mwarning(\u001b[39m\"\u001b[39m\u001b[39mInvalid Message:\u001b[39m\u001b[39m\"\u001b[39m, exc_info\u001b[39m=\u001b[39m\u001b[39mTrue\u001b[39;00m)\n",
      "\u001b[1;31mKeyboardInterrupt\u001b[0m: Interrupted by user"
     ]
    }
   ],
   "source": [
    "while True:\n",
    "    n = int(input())\n",
    "    a = 0\n",
    "    while n>0:\n",
    "        a+=n%10\n",
    "        n = n//10\n",
    "    print(a)"
   ]
  },
  {
   "cell_type": "markdown",
   "metadata": {},
   "source": [
    "# Задание. \"Максимум и минимум\""
   ]
  },
  {
   "cell_type": "markdown",
   "metadata": {},
   "source": [
    "Запрашивайте у пользователя числа, определяйте максимальное и минимальной из всех полученных чисел и сообщайте их ему."
   ]
  },
  {
   "cell_type": "code",
   "execution_count": 19,
   "metadata": {},
   "outputs": [
    {
     "name": "stdout",
     "output_type": "stream",
     "text": [
      "Максимальное число: 43314\n",
      "Минимльное число: -100\n"
     ]
    }
   ],
   "source": [
    "a = int(input())\n",
    "b = int(input())\n",
    "c = int(input())\n",
    "d = int(input())\n",
    "e = int(input())\n",
    "print(\"Максимальное число:\",max(a,b,c,d,e))\n",
    "print(\"Минимльное число:\",min(a,b,c,d,e))"
   ]
  }
 ],
 "metadata": {
  "kernelspec": {
   "display_name": "Python 3",
   "language": "python",
   "name": "python3"
  },
  "language_info": {
   "codemirror_mode": {
    "name": "ipython",
    "version": 3
   },
   "file_extension": ".py",
   "mimetype": "text/x-python",
   "name": "python",
   "nbconvert_exporter": "python",
   "pygments_lexer": "ipython3",
   "version": "3.11.3"
  },
  "vscode": {
   "interpreter": {
    "hash": "63a6fd7b2525131beb640b5f6dcf77fb9970064374f7bc2e60b24e3ccdd3d05a"
   }
  }
 },
 "nbformat": 4,
 "nbformat_minor": 2
}
